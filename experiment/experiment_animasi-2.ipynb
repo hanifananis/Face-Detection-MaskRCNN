{
 "cells": [
  {
   "cell_type": "markdown",
   "metadata": {},
   "source": [
    "# **Detect Faces Using Trained Weights**\n",
    "\n",
    "Use the face detector trained by coco weight to detect faces from image."
   ]
  },
  {
   "cell_type": "markdown",
   "metadata": {},
   "source": [
    "### Import, Setup Configuration, and Load Model"
   ]
  },
  {
   "cell_type": "code",
   "execution_count": 11,
   "metadata": {},
   "outputs": [],
   "source": [
    "# Import necessary modules\n",
    "import os\n",
    "import face_detection\n",
    "import numpy as np\n",
    "import skimage.io\n",
    "from mrcnn import model as modellib\n",
    "from mrcnn import visualize\n",
    "\n",
    "# Define model directory and weights path\n",
    "MODEL_DIR = os.path.abspath('D:/Hanifan/Face-Detection-MaskRCNN/logs')\n",
    "WEIGHTS_PATH = os.path.abspath('D:/Hanifan/Face-Detection-MaskRCNN/logs/mask_rcnn_face_new.h5')\n",
    "\n",
    "# Load configuration\n",
    "class InferenceConfig(face_detection.DatasetConfig):\n",
    "    # Set batch size to 1 for inference\n",
    "    GPU_COUNT = 1\n",
    "    IMAGES_PER_GPU = 1\n",
    "    # Percobaan perubahan hyperparameter\n",
    "    # RPN_NMS_THRESHOLD = 0.8 \n",
    "    DETECTION_MIN_CONFIDENCE = 0.8\n",
    "    # DETECTION_NMS_THRESHOLD = 0.5\n",
    "    # RPN_ANCHOR_STRIDE = 2\n",
    "\n",
    "config = InferenceConfig()\n",
    "\n",
    "# Load and resize image\n",
    "image_path = os.path.abspath('D:/Hanifan/animasi-3.png')\n",
    "image = skimage.io.imread(image_path)\n",
    "\n",
    "# Initialize the model in inference mode\n",
    "model = modellib.MaskRCNN(mode=\"inference\", model_dir=MODEL_DIR, config=config)\n",
    "\n",
    "# Load pre-trained weights\n",
    "model.load_weights(WEIGHTS_PATH, by_name=True)\n"
   ]
  },
  {
   "cell_type": "markdown",
   "metadata": {},
   "source": [
    "### Detection Process"
   ]
  },
  {
   "cell_type": "code",
   "execution_count": 12,
   "metadata": {},
   "outputs": [
    {
     "name": "stdout",
     "output_type": "stream",
     "text": [
      "Processing 1 images\n",
      "image                    shape: (920, 920, 3)         min:    4.00000  max:  255.00000  uint8\n",
      "molded_images            shape: (1, 1024, 1024, 3)    min: -123.70000  max:  151.10000  float64\n",
      "image_metas              shape: (1, 14)               min:    0.00000  max: 1024.00000  int32\n",
      "anchors                  shape: (1, 261888, 4)        min:   -0.35390  max:    1.29134  float32\n",
      "Detection Results:\n",
      "ROIs: []\n",
      "Class IDs: []\n",
      "Scores: []\n",
      "Masks shape: (920, 920, 0)\n",
      "No detections found.\n"
     ]
    }
   ],
   "source": [
    "# Run detection\n",
    "results = model.detect([image], verbose=1)\n",
    "r = results[0]\n",
    "\n",
    "# Debug: Print detection results\n",
    "print(\"Detection Results:\")\n",
    "print(\"ROIs:\", r['rois'])\n",
    "print(\"Class IDs:\", r['class_ids'])\n",
    "print(\"Scores:\", r['scores'])\n",
    "print(\"Masks shape:\", r['masks'].shape if r['masks'] is not None else \"None\")\n",
    "\n",
    "# Refine bounding boxes\n",
    "def refine_bounding_boxes(rois, scores, threshold=0.7):\n",
    "    refined_boxes = []\n",
    "    for roi, score in zip(rois, scores):\n",
    "        if score >= threshold:\n",
    "            refined_boxes.append(roi)\n",
    "    return np.array(refined_boxes)\n",
    "\n",
    "r['rois'] = refine_bounding_boxes(r['rois'], r['scores'], threshold=config.DETECTION_MIN_CONFIDENCE)\n",
    "\n",
    "# Check detection results\n",
    "if len(r['rois']) == 0:\n",
    "    print(\"No detections found.\")\n",
    "else:\n",
    "    print(\"Detections found.\")\n",
    "    # Visualize the results\n",
    "    visualize.display_instances(image, r['rois'], r['masks'], r['class_ids'], \n",
    "                                ['background', 'face'], r['scores'])\n",
    "\n",
    "    # Additional model analysis (only if detections are found)\n",
    "    mrcnn = model.run_graph([image], [\n",
    "        (\"proposals\", model.keras_model.get_layer(\"ROI\").output),\n",
    "        (\"probs\", model.keras_model.get_layer(\"mrcnn_class\").output),\n",
    "        (\"deltas\", model.keras_model.get_layer(\"mrcnn_bbox\").output),\n",
    "        (\"masks\", model.keras_model.get_layer(\"mrcnn_mask\").output),\n",
    "        (\"detections\", model.keras_model.get_layer(\"mrcnn_detection\").output),\n",
    "    ])\n",
    "\n",
    "    det_class_ids = mrcnn['detections'][0, :, 4].astype(np.int32)\n",
    "    if det_class_ids.size > 0:\n",
    "        det_count = np.where(det_class_ids == 0)[0][0] if np.where(det_class_ids == 0)[0].size > 0 else det_class_ids.size\n",
    "        det_class_ids = det_class_ids[:det_count]\n",
    "        detections = mrcnn['detections'][0, :det_count]\n",
    "\n",
    "        print(\"{} detections: {}\".format(\n",
    "            det_count, np.array(['background', 'face'])[det_class_ids]))\n",
    "    else:\n",
    "        print(\"No detections found in mrcnn run_graph output.\")"
   ]
  }
 ],
 "metadata": {
  "kernelspec": {
   "display_name": "Python 3",
   "language": "python",
   "name": "python3"
  },
  "language_info": {
   "codemirror_mode": {
    "name": "ipython",
    "version": 3
   },
   "file_extension": ".py",
   "mimetype": "text/x-python",
   "name": "python",
   "nbconvert_exporter": "python",
   "pygments_lexer": "ipython3",
   "version": "3.9.19"
  }
 },
 "nbformat": 4,
 "nbformat_minor": 1
}
